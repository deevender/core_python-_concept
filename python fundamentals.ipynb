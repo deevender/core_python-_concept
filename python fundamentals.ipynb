{
 "cells": [
  {
   "cell_type": "markdown",
   "id": "5b4b0249",
   "metadata": {},
   "source": [
    "## comment"
   ]
  },
  {
   "cell_type": "markdown",
   "id": "1237a0de",
   "metadata": {},
   "source": [
    "comment: it used to give the discription to your code . that make the code readable and understandable.\n",
    "    this comment is ignored by interpreter."
   ]
  },
  {
   "cell_type": "markdown",
   "id": "7c3b1907",
   "metadata": {},
   "source": [
    "## type of comments"
   ]
  },
  {
   "cell_type": "markdown",
   "id": "861a41a2",
   "metadata": {},
   "source": [
    "- single line comments\n",
    "- multiline comments "
   ]
  },
  {
   "cell_type": "markdown",
   "id": "ce135eef",
   "metadata": {},
   "source": [
    "single line : #"
   ]
  },
  {
   "cell_type": "code",
   "execution_count": 1,
   "id": "29b4f066",
   "metadata": {},
   "outputs": [
    {
     "name": "stdout",
     "output_type": "stream",
     "text": [
      "hello\n",
      "hi\n"
     ]
    }
   ],
   "source": [
    "#this code displaying somthing\n",
    "print(\"hello\") # print() is in built function which is used to display hello here \n",
    "print(\"hi\")"
   ]
  },
  {
   "cell_type": "markdown",
   "id": "735fe671",
   "metadata": {},
   "source": [
    "'''multi lines'''\n",
    "    "
   ]
  },
  {
   "cell_type": "code",
   "execution_count": 2,
   "id": "9e9b9b60",
   "metadata": {},
   "outputs": [
    {
     "name": "stdout",
     "output_type": "stream",
     "text": [
      "hello\n",
      "how are you\n"
     ]
    }
   ],
   "source": [
    "'''this is my first programme\n",
    "where i displaying somthing'''\n",
    "print(\"hello\")\n",
    "print(\"how are you\")"
   ]
  },
  {
   "cell_type": "markdown",
   "id": "dd174f87",
   "metadata": {},
   "source": [
    "## variable: it is a container which is used to hold the data\n",
    "or i can say that it is a named memory location"
   ]
  },
  {
   "cell_type": "code",
   "execution_count": null,
   "id": "dc089de4",
   "metadata": {},
   "outputs": [],
   "source": []
  },
  {
   "cell_type": "markdown",
   "id": "1c6b733d",
   "metadata": {},
   "source": [
    "# how to create the variable\n",
    "\n",
    "name of the variable = value \n"
   ]
  },
  {
   "cell_type": "code",
   "execution_count": 6,
   "id": "66cab9aa",
   "metadata": {},
   "outputs": [],
   "source": [
    "a=4"
   ]
  },
  {
   "cell_type": "code",
   "execution_count": 7,
   "id": "5d40665c",
   "metadata": {},
   "outputs": [
    {
     "data": {
      "text/plain": [
       "4"
      ]
     },
     "execution_count": 7,
     "metadata": {},
     "output_type": "execute_result"
    }
   ],
   "source": [
    "a"
   ]
  },
  {
   "cell_type": "code",
   "execution_count": 8,
   "id": "56e3dfeb",
   "metadata": {},
   "outputs": [
    {
     "data": {
      "text/plain": [
       "4"
      ]
     },
     "execution_count": 8,
     "metadata": {},
     "output_type": "execute_result"
    }
   ],
   "source": [
    "a"
   ]
  },
  {
   "cell_type": "code",
   "execution_count": null,
   "id": "377b82d2",
   "metadata": {},
   "outputs": [],
   "source": []
  },
  {
   "cell_type": "code",
   "execution_count": 7,
   "id": "c69af56c",
   "metadata": {},
   "outputs": [
    {
     "data": {
      "text/plain": [
       "4"
      ]
     },
     "execution_count": 7,
     "metadata": {},
     "output_type": "execute_result"
    }
   ],
   "source": []
  },
  {
   "cell_type": "markdown",
   "id": "d98769c3",
   "metadata": {},
   "source": [
    "# access  the variable \n",
    " just use name of the varible"
   ]
  },
  {
   "cell_type": "markdown",
   "id": "b0de969e",
   "metadata": {},
   "source": [
    "# id() : it tell the address of the value"
   ]
  },
  {
   "cell_type": "code",
   "execution_count": 9,
   "id": "17e4e676",
   "metadata": {},
   "outputs": [
    {
     "data": {
      "text/plain": [
       "1784010703184"
      ]
     },
     "execution_count": 9,
     "metadata": {},
     "output_type": "execute_result"
    }
   ],
   "source": [
    "id(a)"
   ]
  },
  {
   "cell_type": "markdown",
   "id": "2a022abe",
   "metadata": {},
   "source": [
    "# identifier: naming rules of the variable/function"
   ]
  },
  {
   "cell_type": "markdown",
   "id": "9f512e47",
   "metadata": {},
   "source": [
    "- rule 1: it should not start with digit. we can start with letter or one special cheracter i.e\n",
    "\n",
    "- rule 2: it allows any letters/digits/_any where\n",
    "- rule 3: it could be of any length\n",
    "- rule 4: it should not be keywords \n",
    "\n",
    "  keywords: special words /reserved words which has implicit meaning"
   ]
  },
  {
   "cell_type": "code",
   "execution_count": 22,
   "id": "2a01693b",
   "metadata": {},
   "outputs": [
    {
     "name": "stdout",
     "output_type": "stream",
     "text": [
      "['False', 'None', 'True', 'and', 'as', 'assert', 'async', 'await', 'break', 'class', 'continue', 'def', 'del', 'elif', 'else', 'except', 'finally', 'for', 'from', 'global', 'if', 'import', 'in', 'is', 'lambda', 'nonlocal', 'not', 'or', 'pass', 'raise', 'return', 'try', 'while', 'with', 'yield']\n"
     ]
    }
   ],
   "source": [
    "import keyword\n",
    "print(keyword.kwlist)\n"
   ]
  },
  {
   "cell_type": "code",
   "execution_count": null,
   "id": "0b4fec46",
   "metadata": {},
   "outputs": [],
   "source": [
    " if is a keyword "
   ]
  },
  {
   "cell_type": "code",
   "execution_count": 14,
   "id": "c364284b",
   "metadata": {},
   "outputs": [],
   "source": [
    "Av=3"
   ]
  },
  {
   "cell_type": "code",
   "execution_count": 17,
   "id": "308533b7",
   "metadata": {},
   "outputs": [
    {
     "ename": "NameError",
     "evalue": "name 'av' is not defined",
     "output_type": "error",
     "traceback": [
      "\u001b[1;31m---------------------------------------------------------------------------\u001b[0m",
      "\u001b[1;31mNameError\u001b[0m                                 Traceback (most recent call last)",
      "Cell \u001b[1;32mIn[17], line 1\u001b[0m\n\u001b[1;32m----> 1\u001b[0m \u001b[43mav\u001b[49m\n",
      "\u001b[1;31mNameError\u001b[0m: name 'av' is not defined"
     ]
    }
   ],
   "source": [
    "av"
   ]
  },
  {
   "cell_type": "code",
   "execution_count": 18,
   "id": "8ec6bd53",
   "metadata": {},
   "outputs": [],
   "source": [
    " _balmeet=90"
   ]
  },
  {
   "cell_type": "code",
   "execution_count": 19,
   "id": "1d9bbac9",
   "metadata": {},
   "outputs": [],
   "source": [
    "_balmeet1233=90"
   ]
  },
  {
   "cell_type": "code",
   "execution_count": 20,
   "id": "bd799815",
   "metadata": {},
   "outputs": [
    {
     "data": {
      "text/plain": [
       "90"
      ]
     },
     "execution_count": 20,
     "metadata": {},
     "output_type": "execute_result"
    }
   ],
   "source": [
    "_balmeet1233"
   ]
  },
  {
   "cell_type": "code",
   "execution_count": 16,
   "id": "12718370",
   "metadata": {},
   "outputs": [
    {
     "ename": "NameError",
     "evalue": "name 'av' is not defined",
     "output_type": "error",
     "traceback": [
      "\u001b[1;31m---------------------------------------------------------------------------\u001b[0m",
      "\u001b[1;31mNameError\u001b[0m                                 Traceback (most recent call last)",
      "Cell \u001b[1;32mIn[16], line 1\u001b[0m\n\u001b[1;32m----> 1\u001b[0m \u001b[43mav\u001b[49m\n",
      "\u001b[1;31mNameError\u001b[0m: name 'av' is not defined"
     ]
    }
   ],
   "source": []
  },
  {
   "cell_type": "markdown",
   "id": "0644e2b5",
   "metadata": {},
   "source": [
    "## literal"
   ]
  },
  {
   "cell_type": "code",
   "execution_count": 26,
   "id": "3b97bd4a",
   "metadata": {},
   "outputs": [],
   "source": [
    "a=80    ## here 80 is value/literal"
   ]
  },
  {
   "cell_type": "markdown",
   "id": "50a5bc70",
   "metadata": {},
   "source": [
    "## data type: it signifies the type of data that python support"
   ]
  },
  {
   "cell_type": "markdown",
   "id": "222be04d",
   "metadata": {},
   "source": [
    "## numeric\n",
    "\n",
    "- int\n",
    "- float\n",
    "- complex"
   ]
  },
  {
   "cell_type": "code",
   "execution_count": 28,
   "id": "102add8d",
   "metadata": {},
   "outputs": [
    {
     "name": "stdout",
     "output_type": "stream",
     "text": [
      "90\n",
      "<class 'int'>\n"
     ]
    }
   ],
   "source": [
    "a=90\n",
    "print(a)\n",
    "print(type(a))"
   ]
  },
  {
   "cell_type": "markdown",
   "id": "f29a4dd2",
   "metadata": {},
   "source": [
    "## float : decimal\n",
    "\n",
    "\n"
   ]
  },
  {
   "cell_type": "code",
   "execution_count": 29,
   "id": "e8e302cb",
   "metadata": {},
   "outputs": [
    {
     "name": "stdout",
     "output_type": "stream",
     "text": [
      "90.8\n",
      "<class 'float'>\n"
     ]
    }
   ],
   "source": [
    "a=90.8\n",
    "print(a)\n",
    "print(type(90.8))"
   ]
  },
  {
   "cell_type": "markdown",
   "id": "3f1f1ede",
   "metadata": {},
   "source": [
    "## complex : the complex () function returns a complex number by specifying a real number and an imaginary number"
   ]
  },
  {
   "cell_type": "code",
   "execution_count": 30,
   "id": "97775ada",
   "metadata": {},
   "outputs": [
    {
     "name": "stdout",
     "output_type": "stream",
     "text": [
      "(90+8j)\n",
      "<class 'complex'>\n"
     ]
    }
   ],
   "source": [
    "a=90+8j\n",
    "print(a)\n",
    "print(type(a))"
   ]
  },
  {
   "cell_type": "markdown",
   "id": "c8bf70d9",
   "metadata": {},
   "source": []
  },
  {
   "cell_type": "markdown",
   "id": "a51773d8",
   "metadata": {},
   "source": [
    "# sequence\n",
    "\n",
    "# #sequence is the generic term for an ordered set."
   ]
  },
  {
   "cell_type": "markdown",
   "id": "86da1ed5",
   "metadata": {},
   "source": [
    "- srting\n",
    "\n",
    "- list\n",
    "- tuple "
   ]
  },
  {
   "cell_type": "markdown",
   "id": "3f39cec9",
   "metadata": {},
   "source": [
    "- using\"\n",
    "- using\"\"\n",
    "- using\"\"\""
   ]
  },
  {
   "cell_type": "code",
   "execution_count": 4,
   "id": "fc0f98f9",
   "metadata": {},
   "outputs": [
    {
     "name": "stdout",
     "output_type": "stream",
     "text": [
      "madrid1122 solutions\n",
      "<class 'str'>\n"
     ]
    }
   ],
   "source": [
    "a= 'madrid1122 solutions'\n",
    "print(a)\n",
    "print(type(a))"
   ]
  },
  {
   "cell_type": "code",
   "execution_count": 5,
   "id": "2d4e8ff9",
   "metadata": {},
   "outputs": [
    {
     "name": "stdout",
     "output_type": "stream",
     "text": [
      "madrid solution\n",
      "<class 'str'>\n"
     ]
    }
   ],
   "source": [
    "b=\"madrid solution\"\n",
    "print(b)\n",
    "print(type(b))"
   ]
  },
  {
   "cell_type": "code",
   "execution_count": 6,
   "id": "04c141a5",
   "metadata": {},
   "outputs": [
    {
     "name": "stdout",
     "output_type": "stream",
     "text": [
      "how'r u\n",
      "<class 'str'>\n"
     ]
    }
   ],
   "source": [
    "## task 1 : how'r u\n",
    "\n",
    "s=\"how'r u\"\n",
    "print(s)\n",
    "print(type(s))"
   ]
  },
  {
   "cell_type": "code",
   "execution_count": 8,
   "id": "2d54a913",
   "metadata": {},
   "outputs": [
    {
     "name": "stdout",
     "output_type": "stream",
     "text": [
      "hi how r u\n",
      "python is intresting\n",
      "\n",
      "<class 'str'>\n"
     ]
    }
   ],
   "source": [
    "#using ''''''\n",
    "a=\"\"\"hi how r u\n",
    "python is intresting\n",
    "\"\"\"\n",
    "\n",
    "print(a)\n",
    "print(type(a))\n",
    "\n",
    "\n"
   ]
  },
  {
   "cell_type": "markdown",
   "id": "dce74e06",
   "metadata": {},
   "source": [
    "## list\n",
    "\n",
    " - list are used to stored multiple items in a single varible.\n"
   ]
  },
  {
   "cell_type": "code",
   "execution_count": 3,
   "id": "48f927c4",
   "metadata": {},
   "outputs": [
    {
     "name": "stdout",
     "output_type": "stream",
     "text": [
      "[23, 'khushi', 400.25, 'f', 22]\n",
      "<class 'list'>\n"
     ]
    }
   ],
   "source": [
    "\n",
    "student=[23,\"khushi\",400.25,\"f\",22]    ##hetrogeneous\n",
    "print(student)\n",
    "print(type(student))\n",
    "\n",
    "\n"
   ]
  },
  {
   "cell_type": "code",
   "execution_count": 6,
   "id": "c393fdc3",
   "metadata": {},
   "outputs": [
    {
     "name": "stdout",
     "output_type": "stream",
     "text": [
      "[50, 90, 80, 70]\n",
      "<class 'list'>\n"
     ]
    }
   ],
   "source": [
    "marks=[50,90,80,70]    ##homogeneous\n",
    "print(marks)\n",
    "print(type(marks))"
   ]
  },
  {
   "cell_type": "code",
   "execution_count": null,
   "id": "2d8478ee",
   "metadata": {},
   "outputs": [],
   "source": [
    "## tuple : is same as list but  tuple use normal ()\n"
   ]
  },
  {
   "cell_type": "code",
   "execution_count": 7,
   "id": "f30945a0",
   "metadata": {},
   "outputs": [
    {
     "name": "stdout",
     "output_type": "stream",
     "text": [
      "(12, 'leena', 'f')\n",
      "<class 'tuple'>\n"
     ]
    }
   ],
   "source": [
    "t=(12,\"leena\",\"f\")\n",
    "print(t)\n",
    "print(type(t))"
   ]
  },
  {
   "cell_type": "markdown",
   "id": "475b1d73",
   "metadata": {},
   "source": [
    "## type casting : type conversion"
   ]
  },
  {
   "cell_type": "code",
   "execution_count": 8,
   "id": "7a248bd8",
   "metadata": {},
   "outputs": [],
   "source": [
    "# str to int "
   ]
  },
  {
   "cell_type": "code",
   "execution_count": 9,
   "id": "1d01ed85",
   "metadata": {},
   "outputs": [
    {
     "name": "stdout",
     "output_type": "stream",
     "text": [
      "<class 'str'>\n",
      "80\n",
      "<class 'int'>\n"
     ]
    }
   ],
   "source": [
    "s=\"80\"\n",
    "print(type(s))\n",
    "s1=int(s)\n",
    "print(s1)\n",
    "print(type(s1))"
   ]
  },
  {
   "cell_type": "code",
   "execution_count": 12,
   "id": "707a2998",
   "metadata": {},
   "outputs": [
    {
     "name": "stdout",
     "output_type": "stream",
     "text": [
      "<class 'str'>\n"
     ]
    },
    {
     "ename": "ValueError",
     "evalue": "invalid literal for int() with base 10: 'madrid'",
     "output_type": "error",
     "traceback": [
      "\u001b[1;31m---------------------------------------------------------------------------\u001b[0m",
      "\u001b[1;31mValueError\u001b[0m                                Traceback (most recent call last)",
      "Cell \u001b[1;32mIn[12], line 3\u001b[0m\n\u001b[0;32m      1\u001b[0m s\u001b[38;5;241m=\u001b[39m\u001b[38;5;124m\"\u001b[39m\u001b[38;5;124mmadrid\u001b[39m\u001b[38;5;124m\"\u001b[39m\n\u001b[0;32m      2\u001b[0m \u001b[38;5;28mprint\u001b[39m(\u001b[38;5;28mtype\u001b[39m(s))\n\u001b[1;32m----> 3\u001b[0m s1\u001b[38;5;241m=\u001b[39m\u001b[38;5;28;43mint\u001b[39;49m\u001b[43m(\u001b[49m\u001b[43ms\u001b[49m\u001b[43m)\u001b[49m\n\u001b[0;32m      4\u001b[0m \u001b[38;5;28mprint\u001b[39m(s1)\n\u001b[0;32m      5\u001b[0m \u001b[38;5;28mprint\u001b[39m(\u001b[38;5;28mtype\u001b[39m(s1))\n",
      "\u001b[1;31mValueError\u001b[0m: invalid literal for int() with base 10: 'madrid'"
     ]
    }
   ],
   "source": [
    "s=\"madrid\"\n",
    "print(type(s))\n",
    "s1=int(s)\n",
    "print(s1)\n",
    "print(type(s1))"
   ]
  },
  {
   "cell_type": "code",
   "execution_count": 13,
   "id": "bdcc27d4",
   "metadata": {},
   "outputs": [
    {
     "name": "stdout",
     "output_type": "stream",
     "text": [
      "<class 'int'>\n",
      "90\n",
      "<class 'str'>\n"
     ]
    }
   ],
   "source": [
    "#int to str\n",
    "a=90\n",
    "print(type(a))\n",
    "a1=str(a)\n",
    "print(a1)\n",
    "print(type(a1))"
   ]
  },
  {
   "cell_type": "code",
   "execution_count": 14,
   "id": "fbde7f6e",
   "metadata": {},
   "outputs": [
    {
     "name": "stdout",
     "output_type": "stream",
     "text": [
      "<class 'float'>\n",
      "90.7\n",
      "<class 'str'>\n"
     ]
    }
   ],
   "source": [
    "#float to str\n",
    "\n",
    "a=90.7\n",
    "print(type(a))\n",
    "a1=str(a)\n",
    "print (a1)\n",
    "print(type(a1))"
   ]
  },
  {
   "cell_type": "code",
   "execution_count": 16,
   "id": "8c131349",
   "metadata": {},
   "outputs": [
    {
     "name": "stdout",
     "output_type": "stream",
     "text": [
      "<class 'str'>\n",
      "90.73345\n",
      "<class 'float'>\n"
     ]
    }
   ],
   "source": [
    "#str to float\n",
    "\n",
    "a=\"90.73345\"\n",
    "print(type(a))\n",
    "a1=float(a)\n",
    "print(a1)\n",
    "print(type(a1))"
   ]
  },
  {
   "cell_type": "code",
   "execution_count": 17,
   "id": "369fca4f",
   "metadata": {},
   "outputs": [
    {
     "name": "stdout",
     "output_type": "stream",
     "text": [
      "<class 'str'>\n",
      "70\n",
      "<class 'int'>\n"
     ]
    }
   ],
   "source": [
    "#str to int\n",
    "\n",
    "s=\"70.90\"\n",
    "print(type(s))\n",
    "s1=float(s)\n",
    "s2=int(s1)\n",
    "print(s2)\n",
    "print(type(s2))"
   ]
  },
  {
   "cell_type": "code",
   "execution_count": 20,
   "id": "357f0904",
   "metadata": {},
   "outputs": [
    {
     "name": "stdout",
     "output_type": "stream",
     "text": [
      "[12, 13, 14]\n",
      "<class 'list'>\n",
      "[12, 13, 14]\n",
      "<class 'list'>\n"
     ]
    }
   ],
   "source": [
    "l=[12,13,14]\n",
    "print(l)\n",
    "print(type(l))\n",
    "t=tuple(l)\n",
    "print(l)\n",
    "print(type(l))\n",
    " "
   ]
  },
  {
   "cell_type": "markdown",
   "id": "9092afb7",
   "metadata": {},
   "source": [
    "# boolean :true/false\n",
    "\n",
    "### it used to represent the truth value of an expression."
   ]
  },
  {
   "cell_type": "code",
   "execution_count": 21,
   "id": "19ecd457",
   "metadata": {},
   "outputs": [
    {
     "name": "stdout",
     "output_type": "stream",
     "text": [
      "True\n",
      "<class 'bool'>\n"
     ]
    }
   ],
   "source": [
    "a=True\n",
    "print(a)\n",
    "print(type(a))"
   ]
  },
  {
   "cell_type": "code",
   "execution_count": 22,
   "id": "81f60441",
   "metadata": {},
   "outputs": [
    {
     "name": "stdout",
     "output_type": "stream",
     "text": [
      "90.73345\n",
      "<class 'float'>\n"
     ]
    }
   ],
   "source": [
    "a=int(a)\n",
    "print(a1)\n",
    "print(type(a1))"
   ]
  },
  {
   "cell_type": "code",
   "execution_count": 24,
   "id": "93b52cf0",
   "metadata": {},
   "outputs": [
    {
     "name": "stdout",
     "output_type": "stream",
     "text": [
      "1\n",
      "<class 'str'>\n"
     ]
    }
   ],
   "source": [
    "a1=str(a)\n",
    "print(a1)\n",
    "print(type(a1))"
   ]
  },
  {
   "cell_type": "markdown",
   "id": "f07ecc58",
   "metadata": {},
   "source": [
    "# input and output"
   ]
  },
  {
   "cell_type": "code",
   "execution_count": 27,
   "id": "9d5c2bd7",
   "metadata": {},
   "outputs": [
    {
     "name": "stdout",
     "output_type": "stream",
     "text": [
      "12\n"
     ]
    }
   ],
   "source": [
    "print(12)"
   ]
  },
  {
   "cell_type": "markdown",
   "id": "8622b32f",
   "metadata": {},
   "source": [
    "print(12,\"hello\",\"python\",80.9)"
   ]
  },
  {
   "cell_type": "code",
   "execution_count": 30,
   "id": "7cb0bfbe",
   "metadata": {},
   "outputs": [
    {
     "name": "stdout",
     "output_type": "stream",
     "text": [
      "12-hello-python-80.9\n"
     ]
    }
   ],
   "source": [
    "print(12,\"hello\",\"python\",80.9,sep=\"-\")"
   ]
  },
  {
   "cell_type": "code",
   "execution_count": 33,
   "id": "161e9eda",
   "metadata": {},
   "outputs": [
    {
     "name": "stdout",
     "output_type": "stream",
     "text": [
      "12-hello-python-80.9@@@@@how r u        helozzzzzz\n"
     ]
    }
   ],
   "source": [
    "print(12,\"hello\",\"python\",80.9,sep=\"-\", end=\"@@@@@\")\n",
    "print(\"how r u\", end=\"        \" )\n",
    "print(\"helozzzzzz\")"
   ]
  },
  {
   "cell_type": "markdown",
   "id": "84c1ab0b",
   "metadata": {},
   "source": [
    "# input();"
   ]
  },
  {
   "cell_type": "code",
   "execution_count": null,
   "id": "780ec649",
   "metadata": {},
   "outputs": [],
   "source": [
    "a=input(\"enter the number\")  ## it take the input from user and consider it in the from of string"
   ]
  },
  {
   "cell_type": "code",
   "execution_count": null,
   "id": "654e8fe3",
   "metadata": {},
   "outputs": [],
   "source": []
  },
  {
   "cell_type": "code",
   "execution_count": null,
   "id": "8344911e",
   "metadata": {},
   "outputs": [],
   "source": []
  },
  {
   "cell_type": "markdown",
   "id": "91778a7c",
   "metadata": {},
   "source": [
    "# operators"
   ]
  },
  {
   "cell_type": "markdown",
   "id": "542656dc",
   "metadata": {},
   "source": [
    "- arthematic  operator\n",
    "- relational operator\n",
    "- logical  operator\n",
    "- bit wise  operator\n",
    "- shorthand  operator\n",
    "- special  operator\n",
    "\n",
    "      -membership\n",
    "      - equality"
   ]
  },
  {
   "cell_type": "markdown",
   "id": "8f5ae044",
   "metadata": {},
   "source": [
    "# arthematic operator"
   ]
  },
  {
   "cell_type": "code",
   "execution_count": 5,
   "id": "1cb3cc70",
   "metadata": {},
   "outputs": [
    {
     "name": "stdout",
     "output_type": "stream",
     "text": [
      "enter the first number4\n",
      "enter the first number2\n",
      "the addition of  4 and 2 is 6\n",
      "the subtraction of  4 and 2 is 2\n",
      "the multiplication of  4 and 2 is 8\n",
      "the division of  4 and 2 is 2.0\n",
      "the floor division of  4 and 2 is 2\n",
      "the power of  4 and 2 is 16\n"
     ]
    }
   ],
   "source": [
    "number1=int(input(\"enter the first number\"))\n",
    "number2=int(input(\"enter the first number\"))\n",
    "add=number1+number2\n",
    "sub=number1-number2\n",
    "mult=number1*number2\n",
    "div=number1/number2\n",
    "f_div=number1//number2\n",
    "power=number1**number2\n",
    "\n",
    "print(\"the addition of \",number1,\"and\",number2,\"is\",add)\n",
    "print(\"the subtraction of \",number1,\"and\",number2,\"is\",sub)\n",
    "print(\"the multiplication of \",number1,\"and\",number2,\"is\",mult)\n",
    "print(\"the division of \",number1,\"and\",number2,\"is\",div)\n",
    "print(\"the floor division of \",number1,\"and\",number2,\"is\",f_div)\n",
    "print(\"the power of \",number1,\"and\",number2,\"is\",power)"
   ]
  },
  {
   "cell_type": "code",
   "execution_count": null,
   "id": "9816e8c2",
   "metadata": {},
   "outputs": [],
   "source": [
    "\n"
   ]
  },
  {
   "cell_type": "markdown",
   "id": "da7dddff",
   "metadata": {},
   "source": [
    "# relational operator"
   ]
  },
  {
   "cell_type": "code",
   "execution_count": 1,
   "id": "205a0a4b",
   "metadata": {},
   "outputs": [
    {
     "name": "stdout",
     "output_type": "stream",
     "text": [
      "enter the first number4\n",
      "enter the first number6\n",
      "the grater False\n",
      "the grater or equal False\n",
      "the less True\n",
      "the less or equal False\n",
      "the equal False\n",
      "the not equal True\n"
     ]
    }
   ],
   "source": [
    "number1=int(input(\"enter the first number\"))\n",
    "number2=int(input(\"enter the first number\"))\n",
    "print(\"the grater\",number1>number2)\n",
    "print(\"the grater or equal\",number1>=number2)\n",
    "print(\"the less\",number1<number2)\n",
    "print(\"the less or equal\",number1>=number2)\n",
    "print(\"the equal\",number1==number2)\n",
    "print(\"the not equal\",number1!=number2)"
   ]
  },
  {
   "cell_type": "markdown",
   "id": "cbbe356c",
   "metadata": {},
   "source": [
    "# logical operator"
   ]
  },
  {
   "cell_type": "markdown",
   "id": "23d3d2c4",
   "metadata": {},
   "source": [
    "- or \n",
    "- and\n",
    "- not"
   ]
  },
  {
   "cell_type": "code",
   "execution_count": 9,
   "id": "f1c56380",
   "metadata": {},
   "outputs": [
    {
     "name": "stdout",
     "output_type": "stream",
     "text": [
      "or   True\n",
      "or   True\n",
      "or   True\n",
      "or   False\n"
     ]
    }
   ],
   "source": [
    "print(\"or  \",True or False)\n",
    "print(\"or  \",True or False)\n",
    "print(\"or  \",False or True)\n",
    "print(\"or  \",False or False)\n"
   ]
  },
  {
   "cell_type": "code",
   "execution_count": 11,
   "id": "42d12312",
   "metadata": {},
   "outputs": [
    {
     "name": "stdout",
     "output_type": "stream",
     "text": [
      "and   True\n",
      "and   True\n",
      "and   False\n",
      "and   False\n"
     ]
    }
   ],
   "source": [
    "print(\"and  \",True or False)\n",
    "print(\"and  \",True or True)\n",
    "print(\"and  \",False or False)\n",
    "print(\"and  \",False or False)"
   ]
  },
  {
   "cell_type": "code",
   "execution_count": 12,
   "id": "34557daa",
   "metadata": {},
   "outputs": [
    {
     "data": {
      "text/plain": [
       "False"
      ]
     },
     "execution_count": 12,
     "metadata": {},
     "output_type": "execute_result"
    }
   ],
   "source": [
    "not(True)"
   ]
  },
  {
   "cell_type": "code",
   "execution_count": 13,
   "id": "653a8874",
   "metadata": {},
   "outputs": [
    {
     "name": "stdout",
     "output_type": "stream",
     "text": [
      "enter the first number5\n",
      "enter the second number4\n"
     ]
    },
    {
     "data": {
      "text/plain": [
       "4"
      ]
     },
     "execution_count": 13,
     "metadata": {},
     "output_type": "execute_result"
    }
   ],
   "source": [
    "number1=int (input(\"enter the first number\"))\n",
    "number1=int (input(\"enter the second number\"))\n",
    "number1 or number2"
   ]
  },
  {
   "cell_type": "markdown",
   "id": "c9cc49ee",
   "metadata": {},
   "source": [
    "# bit wise : not recommended for data analytics\n"
   ]
  },
  {
   "cell_type": "markdown",
   "id": "f4ffcedf",
   "metadata": {},
   "source": [
    "# shorthans:x+=y:\n",
    "# expanded : x=x+y"
   ]
  },
  {
   "cell_type": "markdown",
   "id": "7f6a7105",
   "metadata": {},
   "source": [
    "# membership:\n",
    "\n",
    "- in \n",
    "- not in"
   ]
  },
  {
   "cell_type": "code",
   "execution_count": 15,
   "id": "519f4502",
   "metadata": {},
   "outputs": [
    {
     "data": {
      "text/plain": [
       "True"
      ]
     },
     "execution_count": 15,
     "metadata": {},
     "output_type": "execute_result"
    }
   ],
   "source": [
    "\"m\" in \"madrid\""
   ]
  },
  {
   "cell_type": "code",
   "execution_count": 16,
   "id": "b658bac6",
   "metadata": {},
   "outputs": [
    {
     "data": {
      "text/plain": [
       "False"
      ]
     },
     "execution_count": 16,
     "metadata": {},
     "output_type": "execute_result"
    }
   ],
   "source": [
    "\"m\" not in \"madrid\""
   ]
  },
  {
   "cell_type": "code",
   "execution_count": 17,
   "id": "40d3814b",
   "metadata": {},
   "outputs": [
    {
     "data": {
      "text/plain": [
       "True"
      ]
     },
     "execution_count": 17,
     "metadata": {},
     "output_type": "execute_result"
    }
   ],
   "source": [
    "\"1\" in \"12345\""
   ]
  },
  {
   "cell_type": "code",
   "execution_count": 18,
   "id": "9c843a7f",
   "metadata": {},
   "outputs": [
    {
     "data": {
      "text/plain": [
       "['khushi', 'tushar', 'pawan']"
      ]
     },
     "execution_count": 18,
     "metadata": {},
     "output_type": "execute_result"
    }
   ],
   "source": [
    "l=[\"khushi\",\"tushar\",\"pawan\"]\n",
    "l"
   ]
  },
  {
   "cell_type": "code",
   "execution_count": 19,
   "id": "d6d4f2f7",
   "metadata": {},
   "outputs": [
    {
     "data": {
      "text/plain": [
       "False"
      ]
     },
     "execution_count": 19,
     "metadata": {},
     "output_type": "execute_result"
    }
   ],
   "source": [
    "\"devender\" in l"
   ]
  },
  {
   "cell_type": "code",
   "execution_count": 20,
   "id": "4670bc91",
   "metadata": {},
   "outputs": [
    {
     "data": {
      "text/plain": [
       "True"
      ]
     },
     "execution_count": 20,
     "metadata": {},
     "output_type": "execute_result"
    }
   ],
   "source": [
    "\"khushi\" in l"
   ]
  },
  {
   "cell_type": "code",
   "execution_count": 21,
   "id": "bc84a2c2",
   "metadata": {},
   "outputs": [
    {
     "data": {
      "text/plain": [
       "False"
      ]
     },
     "execution_count": 21,
     "metadata": {},
     "output_type": "execute_result"
    }
   ],
   "source": [
    "\"paw\" in l"
   ]
  },
  {
   "cell_type": "code",
   "execution_count": 22,
   "id": "64604042",
   "metadata": {},
   "outputs": [
    {
     "data": {
      "text/plain": [
       "True"
      ]
     },
     "execution_count": 22,
     "metadata": {},
     "output_type": "execute_result"
    }
   ],
   "source": [
    "\"paw\" in \"pawan\""
   ]
  },
  {
   "cell_type": "markdown",
   "id": "0c7c436a",
   "metadata": {},
   "source": [
    "# is and is not"
   ]
  },
  {
   "cell_type": "code",
   "execution_count": 24,
   "id": "fc3d6df5",
   "metadata": {},
   "outputs": [
    {
     "name": "stdout",
     "output_type": "stream",
     "text": [
      "1607113572880\n",
      "1607113572848\n"
     ]
    },
    {
     "data": {
      "text/plain": [
       "True"
      ]
     },
     "execution_count": 24,
     "metadata": {},
     "output_type": "execute_result"
    }
   ],
   "source": [
    "a=10\n",
    "b=9\n",
    "print(id(a))\n",
    "print(id(b))\n",
    "a is not b"
   ]
  },
  {
   "cell_type": "markdown",
   "id": "dbe27813",
   "metadata": {},
   "source": [
    "### Q:\n",
    "Raj has 24 candies, simran has 34 candies, aditya has 21 candies . Candies would be equally\n",
    "distributed\n",
    "How many candies need to be distributed to each of them and remaning candies need to given\n",
    "to diksha ?\n",
    "\n",
    "\n",
    " \n",
    "\n",
    "\n"
   ]
  },
  {
   "cell_type": "code",
   "execution_count": 7,
   "id": "9164b2aa",
   "metadata": {},
   "outputs": [
    {
     "name": "stdout",
     "output_type": "stream",
     "text": [
      "each will get 26 candies\n",
      "diksha wil get 1 candies\n"
     ]
    }
   ],
   "source": [
    "r=24\n",
    "s=34\n",
    "a=21\n",
    "total=r+s+a\n",
    "ec=total//3\n",
    "print(\"each will get\",ec,\"candies\")\n",
    "rem=total%3\n",
    "print(\"diksha wil get\",rem,\"candies\")"
   ]
  },
  {
   "cell_type": "markdown",
   "id": "f1ec1e97",
   "metadata": {},
   "source": [
    "## escape sequance\n",
    "escape is a special chercaters if we use them as a part of string then they dont represent themself but they change the behaviour of strings "
   ]
  },
  {
   "cell_type": "code",
   "execution_count": 9,
   "id": "7273c8ce",
   "metadata": {},
   "outputs": [
    {
     "name": "stdout",
     "output_type": "stream",
     "text": [
      "hello,,,,,balmeet\n"
     ]
    }
   ],
   "source": [
    "print(\"hello,,,,,balmeet\")"
   ]
  },
  {
   "cell_type": "code",
   "execution_count": 10,
   "id": "d352cc2f",
   "metadata": {},
   "outputs": [
    {
     "name": "stdout",
     "output_type": "stream",
     "text": [
      "balmeet\n",
      "hello\n"
     ]
    }
   ],
   "source": [
    "print(\"balmeet\\nhello\")"
   ]
  },
  {
   "cell_type": "code",
   "execution_count": 11,
   "id": "09c60037",
   "metadata": {},
   "outputs": [],
   "source": [
    "# task 1: hello\\nstudent\n"
   ]
  },
  {
   "cell_type": "code",
   "execution_count": 13,
   "id": "4b1212d7",
   "metadata": {},
   "outputs": [
    {
     "name": "stdout",
     "output_type": "stream",
     "text": [
      "hello\\nstudent\n"
     ]
    }
   ],
   "source": [
    "print(\"hello\\\\nstudent\")"
   ]
  },
  {
   "cell_type": "markdown",
   "id": "d76365e5",
   "metadata": {},
   "source": [
    "# \\t: generates the tab"
   ]
  },
  {
   "cell_type": "code",
   "execution_count": 14,
   "id": "f0e62887",
   "metadata": {},
   "outputs": [
    {
     "name": "stdout",
     "output_type": "stream",
     "text": [
      "hello\tbalmeet\n"
     ]
    }
   ],
   "source": [
    "print(\"hello\\tbalmeet\")"
   ]
  },
  {
   "cell_type": "code",
   "execution_count": 15,
   "id": "32599e35",
   "metadata": {},
   "outputs": [
    {
     "name": "stdout",
     "output_type": "stream",
     "text": [
      "hello\\tbalmeet\n"
     ]
    }
   ],
   "source": [
    "print(\"hello\\\\tbalmeet\")"
   ]
  },
  {
   "cell_type": "markdown",
   "id": "595d94a5",
   "metadata": {},
   "source": [
    "# task: how'r u"
   ]
  },
  {
   "cell_type": "code",
   "execution_count": 17,
   "id": "9099ebcf",
   "metadata": {},
   "outputs": [
    {
     "name": "stdout",
     "output_type": "stream",
     "text": [
      "how'ru\n"
     ]
    }
   ],
   "source": [
    "print('how\\'ru')"
   ]
  },
  {
   "cell_type": "markdown",
   "id": "74971c77",
   "metadata": {},
   "source": [
    "task 2: how\"ru "
   ]
  },
  {
   "cell_type": "code",
   "execution_count": 18,
   "id": "8f324a8e",
   "metadata": {},
   "outputs": [
    {
     "name": "stdout",
     "output_type": "stream",
     "text": [
      "how\"ru\n"
     ]
    }
   ],
   "source": [
    "print(\"how\\\"ru\")"
   ]
  },
  {
   "cell_type": "markdown",
   "id": "b063b768",
   "metadata": {},
   "source": [
    "# \\b: backspace  "
   ]
  },
  {
   "cell_type": "code",
   "execution_count": 21,
   "id": "8123583a",
   "metadata": {},
   "outputs": [
    {
     "name": "stdout",
     "output_type": "stream",
     "text": [
      "madridsolution\bs\n"
     ]
    }
   ],
   "source": [
    "print(\"madridsolution\\bs\")"
   ]
  },
  {
   "cell_type": "code",
   "execution_count": 22,
   "id": "d2b1a512",
   "metadata": {},
   "outputs": [
    {
     "name": "stdout",
     "output_type": "stream",
     "text": [
      "madridsolution\\bs\n"
     ]
    }
   ],
   "source": [
    "print(\"madridsolution\\\\bs\")"
   ]
  },
  {
   "cell_type": "markdown",
   "id": "73a4d823",
   "metadata": {},
   "source": [
    "or"
   ]
  },
  {
   "cell_type": "code",
   "execution_count": 26,
   "id": "94097362",
   "metadata": {},
   "outputs": [
    {
     "name": "stdout",
     "output_type": "stream",
     "text": [
      "madridsolution\\bs\n"
     ]
    }
   ],
   "source": [
    "print(r\"madridsolution\\bs\")   ## r making raw string"
   ]
  },
  {
   "cell_type": "code",
   "execution_count": 27,
   "id": "6999add5",
   "metadata": {},
   "outputs": [
    {
     "name": "stdout",
     "output_type": "stream",
     "text": [
      "hello\\balmeet\n"
     ]
    }
   ],
   "source": [
    "print(\"hello\\\\balmeet\")"
   ]
  },
  {
   "cell_type": "code",
   "execution_count": null,
   "id": "8d2bb5d8",
   "metadata": {},
   "outputs": [],
   "source": []
  }
 ],
 "metadata": {
  "kernelspec": {
   "display_name": "Python 3 (ipykernel)",
   "language": "python",
   "name": "python3"
  },
  "language_info": {
   "codemirror_mode": {
    "name": "ipython",
    "version": 3
   },
   "file_extension": ".py",
   "mimetype": "text/x-python",
   "name": "python",
   "nbconvert_exporter": "python",
   "pygments_lexer": "ipython3",
   "version": "3.10.9"
  }
 },
 "nbformat": 4,
 "nbformat_minor": 5
}
